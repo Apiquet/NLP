{
 "cells": [
  {
   "cell_type": "markdown",
   "metadata": {},
   "source": [
    "# Data"
   ]
  },
  {
   "cell_type": "code",
   "execution_count": 48,
   "metadata": {},
   "outputs": [
    {
     "data": {
      "text/plain": [
       "['the rock is destined to be the 21st century\\'s new \" conan \" and that he\\'s going to make a splash even greater than arnold schwarzenegger , jean claud van damme or steven segal . ',\n",
       " 'the gorgeously elaborate continuation of \" the lord of the rings \" trilogy is so huge that a column of words cannot adequately describe co writer/director peter jackson\\'s expanded vision of j . r . r . tolkien\\'s middle earth . ',\n",
       " 'effective but too tepid biopic',\n",
       " 'if you sometimes like to go to the movies to have fun , wasabi is a good place to start . ',\n",
       " \"emerges as something rare , an issue movie that's so honest and keenly observed that it doesn't feel like one . \"]"
      ]
     },
     "execution_count": 48,
     "metadata": {},
     "output_type": "execute_result"
    }
   ],
   "source": [
    "positive_sentences = open('data/positive.txt', 'r')\n",
    "negative_sentences = open('data/negative.txt', 'r')\n",
    "positive_list = [line.replace('\\n', '') for line in positive_sentences.readlines()]\n",
    "negative_list = [line.replace('\\n', '') for line in negative_sentences.readlines()]\n",
    "\n",
    "positive_list[:5]"
   ]
  },
  {
   "cell_type": "code",
   "execution_count": 60,
   "metadata": {},
   "outputs": [],
   "source": [
    "import pandas as pd\n",
    "positive_df = pd.DataFrame({'sentences':positive_list})\n",
    "positive_df['feeling'] = 1\n",
    "negative_df = pd.DataFrame({'sentences':negative_list})\n",
    "negative_df['feeling'] = 0"
   ]
  },
  {
   "cell_type": "code",
   "execution_count": 92,
   "metadata": {},
   "outputs": [
    {
     "data": {
      "text/html": [
       "<div>\n",
       "<style scoped>\n",
       "    .dataframe tbody tr th:only-of-type {\n",
       "        vertical-align: middle;\n",
       "    }\n",
       "\n",
       "    .dataframe tbody tr th {\n",
       "        vertical-align: top;\n",
       "    }\n",
       "\n",
       "    .dataframe thead th {\n",
       "        text-align: right;\n",
       "    }\n",
       "</style>\n",
       "<table border=\"1\" class=\"dataframe\">\n",
       "  <thead>\n",
       "    <tr style=\"text-align: right;\">\n",
       "      <th></th>\n",
       "      <th>sentences</th>\n",
       "      <th>feeling</th>\n",
       "    </tr>\n",
       "  </thead>\n",
       "  <tbody>\n",
       "    <tr>\n",
       "      <th>0</th>\n",
       "      <td>infidelity drama is nicely shot , well edited ...</td>\n",
       "      <td>1</td>\n",
       "    </tr>\n",
       "    <tr>\n",
       "      <th>1</th>\n",
       "      <td>exactly what you'd expect from a guy named kao...</td>\n",
       "      <td>0</td>\n",
       "    </tr>\n",
       "    <tr>\n",
       "      <th>2</th>\n",
       "      <td>it's got the brawn , but not the brains .</td>\n",
       "      <td>0</td>\n",
       "    </tr>\n",
       "    <tr>\n",
       "      <th>3</th>\n",
       "      <td>the transporter bombards the viewer with so ma...</td>\n",
       "      <td>0</td>\n",
       "    </tr>\n",
       "    <tr>\n",
       "      <th>4</th>\n",
       "      <td>trademark american triteness and simplicity ar...</td>\n",
       "      <td>1</td>\n",
       "    </tr>\n",
       "    <tr>\n",
       "      <th>5</th>\n",
       "      <td>the way home is an ode to unconditional love a...</td>\n",
       "      <td>1</td>\n",
       "    </tr>\n",
       "    <tr>\n",
       "      <th>6</th>\n",
       "      <td>. . . a rather bland affair .</td>\n",
       "      <td>0</td>\n",
       "    </tr>\n",
       "    <tr>\n",
       "      <th>7</th>\n",
       "      <td>tells ( the story ) with such atmospheric ball...</td>\n",
       "      <td>1</td>\n",
       "    </tr>\n",
       "    <tr>\n",
       "      <th>8</th>\n",
       "      <td>almost everything about the film is unsettling...</td>\n",
       "      <td>0</td>\n",
       "    </tr>\n",
       "    <tr>\n",
       "      <th>9</th>\n",
       "      <td>national lampoon's van wilder could be the wor...</td>\n",
       "      <td>0</td>\n",
       "    </tr>\n",
       "  </tbody>\n",
       "</table>\n",
       "</div>"
      ],
      "text/plain": [
       "                                           sentences  feeling\n",
       "0  infidelity drama is nicely shot , well edited ...        1\n",
       "1  exactly what you'd expect from a guy named kao...        0\n",
       "2         it's got the brawn , but not the brains .         0\n",
       "3  the transporter bombards the viewer with so ma...        0\n",
       "4  trademark american triteness and simplicity ar...        1\n",
       "5  the way home is an ode to unconditional love a...        1\n",
       "6                     . . . a rather bland affair .         0\n",
       "7  tells ( the story ) with such atmospheric ball...        1\n",
       "8  almost everything about the film is unsettling...        0\n",
       "9  national lampoon's van wilder could be the wor...        0"
      ]
     },
     "execution_count": 92,
     "metadata": {},
     "output_type": "execute_result"
    }
   ],
   "source": [
    "data = pd.concat([positive_df, negative_df])\n",
    "# lower case\n",
    "data['sentences'] = data['sentences'].str.lower()\n",
    "# shuffle\n",
    "data = data.sample(frac=1).reset_index(drop=True)\n",
    "data.head(10)"
   ]
  },
  {
   "cell_type": "code",
   "execution_count": 93,
   "metadata": {},
   "outputs": [
    {
     "data": {
      "text/html": [
       "<div>\n",
       "<style scoped>\n",
       "    .dataframe tbody tr th:only-of-type {\n",
       "        vertical-align: middle;\n",
       "    }\n",
       "\n",
       "    .dataframe tbody tr th {\n",
       "        vertical-align: top;\n",
       "    }\n",
       "\n",
       "    .dataframe thead th {\n",
       "        text-align: right;\n",
       "    }\n",
       "</style>\n",
       "<table border=\"1\" class=\"dataframe\">\n",
       "  <thead>\n",
       "    <tr style=\"text-align: right;\">\n",
       "      <th></th>\n",
       "      <th>sentences</th>\n",
       "      <th>feeling</th>\n",
       "    </tr>\n",
       "  </thead>\n",
       "  <tbody>\n",
       "    <tr>\n",
       "      <th>0</th>\n",
       "      <td>infidelity drama is nicely shot  well edited a...</td>\n",
       "      <td>1</td>\n",
       "    </tr>\n",
       "    <tr>\n",
       "      <th>1</th>\n",
       "      <td>exactly what you'd expect from a guy named kaos</td>\n",
       "      <td>0</td>\n",
       "    </tr>\n",
       "    <tr>\n",
       "      <th>2</th>\n",
       "      <td>it's got the brawn  but not the brains</td>\n",
       "      <td>0</td>\n",
       "    </tr>\n",
       "    <tr>\n",
       "      <th>3</th>\n",
       "      <td>the transporter bombards the viewer with so ma...</td>\n",
       "      <td>0</td>\n",
       "    </tr>\n",
       "    <tr>\n",
       "      <th>4</th>\n",
       "      <td>trademark american triteness and simplicity ar...</td>\n",
       "      <td>1</td>\n",
       "    </tr>\n",
       "    <tr>\n",
       "      <th>5</th>\n",
       "      <td>the way home is an ode to unconditional love a...</td>\n",
       "      <td>1</td>\n",
       "    </tr>\n",
       "    <tr>\n",
       "      <th>6</th>\n",
       "      <td>a rather bland affair</td>\n",
       "      <td>0</td>\n",
       "    </tr>\n",
       "    <tr>\n",
       "      <th>7</th>\n",
       "      <td>tells  the story  with such atmospheric ballas...</td>\n",
       "      <td>1</td>\n",
       "    </tr>\n",
       "    <tr>\n",
       "      <th>8</th>\n",
       "      <td>almost everything about the film is unsettling...</td>\n",
       "      <td>0</td>\n",
       "    </tr>\n",
       "    <tr>\n",
       "      <th>9</th>\n",
       "      <td>national lampoon's van wilder could be the wor...</td>\n",
       "      <td>0</td>\n",
       "    </tr>\n",
       "  </tbody>\n",
       "</table>\n",
       "</div>"
      ],
      "text/plain": [
       "                                           sentences  feeling\n",
       "0  infidelity drama is nicely shot  well edited a...        1\n",
       "1  exactly what you'd expect from a guy named kaos          0\n",
       "2           it's got the brawn  but not the brains          0\n",
       "3  the transporter bombards the viewer with so ma...        0\n",
       "4  trademark american triteness and simplicity ar...        1\n",
       "5  the way home is an ode to unconditional love a...        1\n",
       "6                            a rather bland affair          0\n",
       "7  tells  the story  with such atmospheric ballas...        1\n",
       "8  almost everything about the film is unsettling...        0\n",
       "9  national lampoon's van wilder could be the wor...        0"
      ]
     },
     "execution_count": 93,
     "metadata": {},
     "output_type": "execute_result"
    }
   ],
   "source": [
    "import string\n",
    "def remove_punctuation(s):\n",
    "    s = ''.join([i for i in s if i not in frozenset(string.punctuation.replace(\"'\",''))])\n",
    "    return s\n",
    "# remove ponctuation except \"'\"\n",
    "data['sentences'] = data['sentences'].apply(remove_punctuation())\n",
    "data.head(10)"
   ]
  },
  {
   "cell_type": "code",
   "execution_count": 103,
   "metadata": {},
   "outputs": [
    {
     "data": {
      "text/plain": [
       "10662"
      ]
     },
     "execution_count": 103,
     "metadata": {},
     "output_type": "execute_result"
    }
   ],
   "source": [
    "# tokenize\n",
    "tokens = [ s.split() for s in data['sentences']]\n",
    "len(tokens)"
   ]
  },
  {
   "cell_type": "code",
   "execution_count": 104,
   "metadata": {},
   "outputs": [
    {
     "data": {
      "text/plain": [
       "['infidelity',\n",
       " 'drama',\n",
       " 'is',\n",
       " 'nicely',\n",
       " 'shot',\n",
       " 'well',\n",
       " 'edited',\n",
       " 'and',\n",
       " 'features',\n",
       " 'a',\n",
       " 'standout',\n",
       " 'performance',\n",
       " 'by',\n",
       " 'diane',\n",
       " 'lane']"
      ]
     },
     "execution_count": 104,
     "metadata": {},
     "output_type": "execute_result"
    }
   ],
   "source": [
    "tokens[0]"
   ]
  },
  {
   "cell_type": "markdown",
   "metadata": {},
   "source": [
    "# Word vector"
   ]
  },
  {
   "cell_type": "code",
   "execution_count": 94,
   "metadata": {},
   "outputs": [],
   "source": [
    "import gensim.downloader as api\n",
    "NEED_DOWNLOAD = False\n",
    "if NEED_DOWNLOAD:\n",
    "    word_vectors = api.load(\"glove-wiki-gigaword-100\")  # load pre-trained word-vectors from gensim-data\n",
    "    word_vectors.save('data/glove-wiki-gigaword-100.bin')\n",
    "else:\n",
    "    word_vectors.load('data/glove-wiki-gigaword-100.bin')"
   ]
  },
  {
   "cell_type": "code",
   "execution_count": 95,
   "metadata": {},
   "outputs": [
    {
     "data": {
      "text/plain": [
       "[('berlin', 0.8846380710601807),\n",
       " ('frankfurt', 0.7985544204711914),\n",
       " ('vienna', 0.76759934425354),\n",
       " ('munich', 0.7542588710784912),\n",
       " ('hamburg', 0.718237042427063),\n",
       " ('bonn', 0.6890878677368164),\n",
       " ('prague', 0.6842441558837891),\n",
       " ('cologne', 0.6762093305587769),\n",
       " ('zurich', 0.6653269529342651),\n",
       " ('leipzig', 0.6619254350662231)]"
      ]
     },
     "execution_count": 95,
     "metadata": {},
     "output_type": "execute_result"
    }
   ],
   "source": [
    "word_vectors.most_similar(positive=['paris', 'germany'], negative=['france'])"
   ]
  },
  {
   "cell_type": "code",
   "execution_count": 96,
   "metadata": {},
   "outputs": [
    {
     "name": "stdout",
     "output_type": "stream",
     "text": [
      "cereal\n"
     ]
    },
    {
     "name": "stderr",
     "output_type": "stream",
     "text": [
      "C:\\Users\\antho\\Anaconda3\\lib\\site-packages\\gensim\\models\\keyedvectors.py:877: FutureWarning: arrays to stack must be passed as a \"sequence\" type such as list or tuple. Support for non-sequence iterables such as generators is deprecated as of NumPy 1.16 and will raise an error in the future.\n",
      "  vectors = vstack(self.word_vec(word, use_norm=True) for word in used_words).astype(REAL)\n"
     ]
    }
   ],
   "source": [
    "print(word_vectors.doesnt_match(\"breakfast cereal dinner lunch\".split()))"
   ]
  },
  {
   "cell_type": "code",
   "execution_count": 97,
   "metadata": {},
   "outputs": [
    {
     "data": {
      "text/plain": [
       "0.8323494"
      ]
     },
     "execution_count": 97,
     "metadata": {},
     "output_type": "execute_result"
    }
   ],
   "source": [
    "word_vectors.similarity('woman', 'man')"
   ]
  },
  {
   "cell_type": "markdown",
   "metadata": {},
   "source": [
    "# Prepare data"
   ]
  },
  {
   "cell_type": "code",
   "execution_count": 164,
   "metadata": {},
   "outputs": [
    {
     "name": "stdout",
     "output_type": "stream",
     "text": [
      "max length is: 51\n"
     ]
    },
    {
     "data": {
      "image/png": "[encoded data removed]",
      "text/plain": [
       "<Figure size 720x360 with 1 Axes>"
      ]
     },
     "metadata": {
      "needs_background": "light"
     },
     "output_type": "display_data"
    }
   ],
   "source": [
    "# display distribution of the sentences' sizes\n",
    "import pandas\n",
    "from collections import Counter\n",
    "\n",
    "sizes = [len(el) for el in tokens]\n",
    "sizes_counts = Counter(sizes)\n",
    "df = pandas.DataFrame.from_dict(dict(sorted(sizes_counts.items())), orient='index')\n",
    "\n",
    "df.plot(kind='bar', figsize=(10,5));\n",
    "print('max length is:', max(sizes_counts, key=int))"
   ]
  },
  {
   "cell_type": "code",
   "execution_count": 169,
   "metadata": {},
   "outputs": [
    {
     "name": "stderr",
     "output_type": "stream",
     "text": [
      "100%|██████████| 10662/10662 [00:00<00:00, 18368.59it/s]\n"
     ]
    },
    {
     "name": "stdout",
     "output_type": "stream",
     "text": [
      "X shape: (10662, 51, 100) , Y shape: (10662,)\n"
     ]
    }
   ],
   "source": [
    "from tqdm import tqdm\n",
    "\n",
    "keys = word_vectors.vocab.keys()\n",
    "vocabIndex = {}\n",
    "for w in keys:\n",
    "\tvocabIndex[w] = word_vectors.vocab[w].index\n",
    "\n",
    "X = []\n",
    "y = []\n",
    "MAX_LENGTH = max(sizes_counts, key=int)\n",
    "\n",
    "for el in tqdm(tokens):\n",
    "    row = np.zeros((MAX_LENGTH, 100))\n",
    "    words = el\n",
    "    for j in range(min(MAX_LENGTH, len(words))):\n",
    "        if words[j] in word_vectors.vocab:\n",
    "            indexVal = vocabIndex[words[j]]\n",
    "            row[j] = word_vectors[words[j]]\n",
    "    X.append(row)\n",
    "\t\n",
    "X = np.asarray(X)\n",
    "y = np.asarray(data['feeling'].values)\n",
    "\n",
    "print('X shape:', X.shape, ', Y shape:', y.shape)"
   ]
  },
  {
   "cell_type": "code",
   "execution_count": 174,
   "metadata": {},
   "outputs": [
    {
     "data": {
      "text/plain": [
       "(array([[ 0.60074002,  0.324     ,  0.72399998, ..., -0.64135998,\n",
       "         -0.086523  , -0.13375001],\n",
       "        [ 0.41600001,  0.16817001,  0.29594001, ..., -0.37358999,\n",
       "         -0.0084974 ,  0.50651002],\n",
       "        [-0.54263997,  0.41475999,  1.03219998, ..., -1.29690003,\n",
       "          0.76217002,  0.46349001],\n",
       "        ...,\n",
       "        [ 0.        ,  0.        ,  0.        , ...,  0.        ,\n",
       "          0.        ,  0.        ],\n",
       "        [ 0.        ,  0.        ,  0.        , ...,  0.        ,\n",
       "          0.        ,  0.        ],\n",
       "        [ 0.        ,  0.        ,  0.        , ...,  0.        ,\n",
       "          0.        ,  0.        ]]),\n",
       " array([1, 0, 0, ..., 1, 1, 0], dtype=int64))"
      ]
     },
     "execution_count": 174,
     "metadata": {},
     "output_type": "execute_result"
    }
   ],
   "source": [
    "X[0], y"
   ]
  },
  {
   "cell_type": "code",
   "execution_count": 182,
   "metadata": {},
   "outputs": [],
   "source": [
    "from sklearn.model_selection import train_test_split\n",
    "TEST_SIZE = 0.3\n",
    "X_train, X_test, y_train, y_test = train_test_split(X, y, test_size=TEST_SIZE)\n",
    "assert abs(y.shape[0]*TEST_SIZE - y_test.shape[0]) < 1\n",
    "assert abs(X.shape[0]*TEST_SIZE - X_test.shape[0]) < 1"
   ]
  },
  {
   "cell_type": "code",
   "execution_count": null,
   "metadata": {},
   "outputs": [],
   "source": []
  }
 ],
 "metadata": {
  "kernelspec": {
   "display_name": "Python 3",
   "language": "python",
   "name": "python3"
  },
  "language_info": {
   "codemirror_mode": {
    "name": "ipython",
    "version": 3
   },
   "file_extension": ".py",
   "mimetype": "text/x-python",
   "name": "python",
   "nbconvert_exporter": "python",
   "pygments_lexer": "ipython3",
   "version": "3.7.3"
  }
 },
 "nbformat": 4,
 "nbformat_minor": 4
}
