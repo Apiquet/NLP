{
 "cells": [
  {
   "cell_type": "code",
   "execution_count": null,
   "metadata": {},
   "outputs": [],
   "source": [
    "import numpy as np\n",
    "import os\n",
    "os.environ['TF_CPP_MIN_LOG_LEVEL'] = '3'\n",
    "import pandas as pd"
   ]
  },
  {
   "cell_type": "markdown",
   "metadata": {},
   "source": [
    "# Data"
   ]
  },
  {
   "cell_type": "code",
   "execution_count": 1,
   "metadata": {},
   "outputs": [
    {
     "data": {
      "text/plain": [
       "['the rock is destined to be the 21st century\\'s new \" conan \" and that he\\'s going to make a splash even greater than arnold schwarzenegger , jean claud van damme or steven segal . ',\n",
       " 'the gorgeously elaborate continuation of \" the lord of the rings \" trilogy is so huge that a column of words cannot adequately describe co writer/director peter jackson\\'s expanded vision of j . r . r . tolkien\\'s middle earth . ',\n",
       " 'effective but too tepid biopic',\n",
       " 'if you sometimes like to go to the movies to have fun , wasabi is a good place to start . ',\n",
       " \"emerges as something rare , an issue movie that's so honest and keenly observed that it doesn't feel like one . \"]"
      ]
     },
     "execution_count": 1,
     "metadata": {},
     "output_type": "execute_result"
    }
   ],
   "source": [
    "positive_sentences = open('data/positive.txt', 'r')\n",
    "negative_sentences = open('data/negative.txt', 'r')\n",
    "positive_list = [line.replace('\\n', '') for line in positive_sentences.readlines()]\n",
    "negative_list = [line.replace('\\n', '') for line in negative_sentences.readlines()]\n",
    "\n",
    "positive_list[:5]"
   ]
  },
  {
   "cell_type": "code",
   "execution_count": 2,
   "metadata": {},
   "outputs": [],
   "source": [
    "positive_df = pd.DataFrame({'sentences':positive_list})\n",
    "positive_df['feeling'] = 1\n",
    "negative_df = pd.DataFrame({'sentences':negative_list})\n",
    "negative_df['feeling'] = 0"
   ]
  },
  {
   "cell_type": "code",
   "execution_count": 3,
   "metadata": {},
   "outputs": [
    {
     "data": {
      "text/html": [
       "<div>\n",
       "<style scoped>\n",
       "    .dataframe tbody tr th:only-of-type {\n",
       "        vertical-align: middle;\n",
       "    }\n",
       "\n",
       "    .dataframe tbody tr th {\n",
       "        vertical-align: top;\n",
       "    }\n",
       "\n",
       "    .dataframe thead th {\n",
       "        text-align: right;\n",
       "    }\n",
       "</style>\n",
       "<table border=\"1\" class=\"dataframe\">\n",
       "  <thead>\n",
       "    <tr style=\"text-align: right;\">\n",
       "      <th></th>\n",
       "      <th>sentences</th>\n",
       "      <th>feeling</th>\n",
       "    </tr>\n",
       "  </thead>\n",
       "  <tbody>\n",
       "    <tr>\n",
       "      <th>0</th>\n",
       "      <td>a venturesome , beautifully realized psycholog...</td>\n",
       "      <td>1</td>\n",
       "    </tr>\n",
       "    <tr>\n",
       "      <th>1</th>\n",
       "      <td>[e]ventually , every idea in this film is flus...</td>\n",
       "      <td>0</td>\n",
       "    </tr>\n",
       "    <tr>\n",
       "      <th>2</th>\n",
       "      <td>thought provoking and stylish , if also somewh...</td>\n",
       "      <td>1</td>\n",
       "    </tr>\n",
       "    <tr>\n",
       "      <th>3</th>\n",
       "      <td>some writer dude , i think his name was , uh ,...</td>\n",
       "      <td>0</td>\n",
       "    </tr>\n",
       "    <tr>\n",
       "      <th>4</th>\n",
       "      <td>don't waste your money .</td>\n",
       "      <td>0</td>\n",
       "    </tr>\n",
       "    <tr>\n",
       "      <th>5</th>\n",
       "      <td>not one moment in the enterprise didn't make m...</td>\n",
       "      <td>0</td>\n",
       "    </tr>\n",
       "    <tr>\n",
       "      <th>6</th>\n",
       "      <td>you see robin williams and psycho killer , and...</td>\n",
       "      <td>0</td>\n",
       "    </tr>\n",
       "    <tr>\n",
       "      <th>7</th>\n",
       "      <td>majidi gets uniformly engaging performances fr...</td>\n",
       "      <td>1</td>\n",
       "    </tr>\n",
       "    <tr>\n",
       "      <th>8</th>\n",
       "      <td>an enthralling , playful film that constantly ...</td>\n",
       "      <td>1</td>\n",
       "    </tr>\n",
       "    <tr>\n",
       "      <th>9</th>\n",
       "      <td>woo's fights have a distinct flair . his warri...</td>\n",
       "      <td>1</td>\n",
       "    </tr>\n",
       "  </tbody>\n",
       "</table>\n",
       "</div>"
      ],
      "text/plain": [
       "                                           sentences  feeling\n",
       "0  a venturesome , beautifully realized psycholog...        1\n",
       "1  [e]ventually , every idea in this film is flus...        0\n",
       "2  thought provoking and stylish , if also somewh...        1\n",
       "3  some writer dude , i think his name was , uh ,...        0\n",
       "4                          don't waste your money .         0\n",
       "5  not one moment in the enterprise didn't make m...        0\n",
       "6  you see robin williams and psycho killer , and...        0\n",
       "7  majidi gets uniformly engaging performances fr...        1\n",
       "8  an enthralling , playful film that constantly ...        1\n",
       "9  woo's fights have a distinct flair . his warri...        1"
      ]
     },
     "execution_count": 3,
     "metadata": {},
     "output_type": "execute_result"
    }
   ],
   "source": [
    "data = pd.concat([positive_df, negative_df])\n",
    "# lower case\n",
    "data['sentences'] = data['sentences'].str.lower()\n",
    "# shuffle\n",
    "data = data.sample(frac=1).reset_index(drop=True)\n",
    "data.head(10)"
   ]
  },
  {
   "cell_type": "code",
   "execution_count": 4,
   "metadata": {},
   "outputs": [
    {
     "data": {
      "text/html": [
       "<div>\n",
       "<style scoped>\n",
       "    .dataframe tbody tr th:only-of-type {\n",
       "        vertical-align: middle;\n",
       "    }\n",
       "\n",
       "    .dataframe tbody tr th {\n",
       "        vertical-align: top;\n",
       "    }\n",
       "\n",
       "    .dataframe thead th {\n",
       "        text-align: right;\n",
       "    }\n",
       "</style>\n",
       "<table border=\"1\" class=\"dataframe\">\n",
       "  <thead>\n",
       "    <tr style=\"text-align: right;\">\n",
       "      <th></th>\n",
       "      <th>sentences</th>\n",
       "      <th>feeling</th>\n",
       "    </tr>\n",
       "  </thead>\n",
       "  <tbody>\n",
       "    <tr>\n",
       "      <th>0</th>\n",
       "      <td>a venturesome  beautifully realized psychologi...</td>\n",
       "      <td>1</td>\n",
       "    </tr>\n",
       "    <tr>\n",
       "      <th>1</th>\n",
       "      <td>eventually  every idea in this film is flushed...</td>\n",
       "      <td>0</td>\n",
       "    </tr>\n",
       "    <tr>\n",
       "      <th>2</th>\n",
       "      <td>thought provoking and stylish  if also somewha...</td>\n",
       "      <td>1</td>\n",
       "    </tr>\n",
       "    <tr>\n",
       "      <th>3</th>\n",
       "      <td>some writer dude  i think his name was  uh  mi...</td>\n",
       "      <td>0</td>\n",
       "    </tr>\n",
       "    <tr>\n",
       "      <th>4</th>\n",
       "      <td>don't waste your money</td>\n",
       "      <td>0</td>\n",
       "    </tr>\n",
       "    <tr>\n",
       "      <th>5</th>\n",
       "      <td>not one moment in the enterprise didn't make m...</td>\n",
       "      <td>0</td>\n",
       "    </tr>\n",
       "    <tr>\n",
       "      <th>6</th>\n",
       "      <td>you see robin williams and psycho killer  and ...</td>\n",
       "      <td>0</td>\n",
       "    </tr>\n",
       "    <tr>\n",
       "      <th>7</th>\n",
       "      <td>majidi gets uniformly engaging performances fr...</td>\n",
       "      <td>1</td>\n",
       "    </tr>\n",
       "    <tr>\n",
       "      <th>8</th>\n",
       "      <td>an enthralling  playful film that constantly f...</td>\n",
       "      <td>1</td>\n",
       "    </tr>\n",
       "    <tr>\n",
       "      <th>9</th>\n",
       "      <td>woo's fights have a distinct flair  his warrio...</td>\n",
       "      <td>1</td>\n",
       "    </tr>\n",
       "  </tbody>\n",
       "</table>\n",
       "</div>"
      ],
      "text/plain": [
       "                                           sentences  feeling\n",
       "0  a venturesome  beautifully realized psychologi...        1\n",
       "1  eventually  every idea in this film is flushed...        0\n",
       "2  thought provoking and stylish  if also somewha...        1\n",
       "3  some writer dude  i think his name was  uh  mi...        0\n",
       "4                           don't waste your money          0\n",
       "5  not one moment in the enterprise didn't make m...        0\n",
       "6  you see robin williams and psycho killer  and ...        0\n",
       "7  majidi gets uniformly engaging performances fr...        1\n",
       "8  an enthralling  playful film that constantly f...        1\n",
       "9  woo's fights have a distinct flair  his warrio...        1"
      ]
     },
     "execution_count": 4,
     "metadata": {},
     "output_type": "execute_result"
    }
   ],
   "source": [
    "import string\n",
    "def remove_punctuation(s):\n",
    "    s = ''.join([i for i in s if i not in frozenset(string.punctuation.replace(\"'\",''))])\n",
    "    return s\n",
    "# remove ponctuation except \"'\"\n",
    "data['sentences'] = data['sentences'].apply(remove_punctuation)\n",
    "data.head(10)"
   ]
  },
  {
   "cell_type": "code",
   "execution_count": 5,
   "metadata": {},
   "outputs": [
    {
     "data": {
      "text/plain": [
       "10662"
      ]
     },
     "execution_count": 5,
     "metadata": {},
     "output_type": "execute_result"
    }
   ],
   "source": [
    "# tokenize\n",
    "tokens = [ s.split() for s in data['sentences']]\n",
    "len(tokens)"
   ]
  },
  {
   "cell_type": "code",
   "execution_count": 6,
   "metadata": {},
   "outputs": [
    {
     "data": {
      "text/plain": [
       "['a',\n",
       " 'venturesome',\n",
       " 'beautifully',\n",
       " 'realized',\n",
       " 'psychological',\n",
       " 'mood',\n",
       " 'piece',\n",
       " 'that',\n",
       " 'reveals',\n",
       " 'its',\n",
       " 'first',\n",
       " 'time',\n",
       " 'feature',\n",
       " \"director's\",\n",
       " 'understanding',\n",
       " 'of',\n",
       " 'the',\n",
       " 'expressive',\n",
       " 'power',\n",
       " 'of',\n",
       " 'the',\n",
       " 'camera']"
      ]
     },
     "execution_count": 6,
     "metadata": {},
     "output_type": "execute_result"
    }
   ],
   "source": [
    "tokens[0]"
   ]
  },
  {
   "cell_type": "markdown",
   "metadata": {},
   "source": [
    "# Word vector"
   ]
  },
  {
   "cell_type": "code",
   "execution_count": 16,
   "metadata": {},
   "outputs": [],
   "source": [
    "import gensim.downloader as api\n",
    "from gensim.models import KeyedVectors\n",
    "\n",
    "NEED_DOWNLOAD = False\n",
    "if NEED_DOWNLOAD:\n",
    "    word_vectors = api.load(\"glove-wiki-gigaword-100\")  # load pre-trained word-vectors from gensim-data\n",
    "    word_vectors.save('data/glove-wiki-gigaword-100.bin')\n",
    "else:\n",
    "    word_vectors = KeyedVectors.load('data/glove-wiki-gigaword-100.bin')  \n"
   ]
  },
  {
   "cell_type": "code",
   "execution_count": 17,
   "metadata": {},
   "outputs": [
    {
     "data": {
      "text/plain": [
       "[('berlin', 0.8846380710601807),\n",
       " ('frankfurt', 0.7985544204711914),\n",
       " ('vienna', 0.76759934425354),\n",
       " ('munich', 0.7542588710784912),\n",
       " ('hamburg', 0.718237042427063),\n",
       " ('bonn', 0.6890878677368164),\n",
       " ('prague', 0.6842441558837891),\n",
       " ('cologne', 0.6762093305587769),\n",
       " ('zurich', 0.6653269529342651),\n",
       " ('leipzig', 0.6619254350662231)]"
      ]
     },
     "execution_count": 17,
     "metadata": {},
     "output_type": "execute_result"
    }
   ],
   "source": [
    "word_vectors.most_similar(positive=['paris', 'germany'], negative=['france'])"
   ]
  },
  {
   "cell_type": "code",
   "execution_count": 18,
   "metadata": {},
   "outputs": [
    {
     "name": "stdout",
     "output_type": "stream",
     "text": [
      "cereal\n"
     ]
    },
    {
     "name": "stderr",
     "output_type": "stream",
     "text": [
      "C:\\Users\\antho\\Anaconda3\\lib\\site-packages\\gensim\\models\\keyedvectors.py:877: FutureWarning: arrays to stack must be passed as a \"sequence\" type such as list or tuple. Support for non-sequence iterables such as generators is deprecated as of NumPy 1.16 and will raise an error in the future.\n",
      "  vectors = vstack(self.word_vec(word, use_norm=True) for word in used_words).astype(REAL)\n"
     ]
    }
   ],
   "source": [
    "print(word_vectors.doesnt_match(\"breakfast cereal dinner lunch\".split()))"
   ]
  },
  {
   "cell_type": "code",
   "execution_count": 19,
   "metadata": {},
   "outputs": [
    {
     "data": {
      "text/plain": [
       "0.8323494"
      ]
     },
     "execution_count": 19,
     "metadata": {},
     "output_type": "execute_result"
    }
   ],
   "source": [
    "word_vectors.similarity('woman', 'man')"
   ]
  },
  {
   "cell_type": "markdown",
   "metadata": {},
   "source": [
    "# Prepare data"
   ]
  },
  {
   "cell_type": "code",
   "execution_count": 24,
   "metadata": {},
   "outputs": [
    {
     "name": "stdout",
     "output_type": "stream",
     "text": [
      "max length is: 51\n"
     ]
    },
    {
     "data": {
      "image/png": "[encoded data removed]",
      "text/plain": [
       "<Figure size 720x360 with 1 Axes>"
      ]
     },
     "metadata": {
      "needs_background": "light"
     },
     "output_type": "display_data"
    }
   ],
   "source": [
    "# display distribution of the sentences' sizes\n",
    "import pandas\n",
    "from collections import Counter\n",
    "\n",
    "sizes = [len(el) for el in tokens]\n",
    "sizes_counts = Counter(sizes)\n",
    "df = pandas.DataFrame.from_dict(dict(sorted(sizes_counts.items())), orient='index')\n",
    "\n",
    "df.plot(kind='bar', figsize=(10,5));\n",
    "print('max length is:', max(sizes_counts, key=int))"
   ]
  },
  {
   "cell_type": "code",
   "execution_count": 25,
   "metadata": {},
   "outputs": [
    {
     "name": "stderr",
     "output_type": "stream",
     "text": [
      "100%|██████████| 10662/10662 [00:00<00:00, 15937.48it/s]\n"
     ]
    },
    {
     "name": "stdout",
     "output_type": "stream",
     "text": [
      "X shape: (10662, 51, 100) , Y shape: (10662,)\n"
     ]
    }
   ],
   "source": [
    "from tqdm import tqdm\n",
    "\n",
    "keys = word_vectors.vocab.keys()\n",
    "vocabIndex = {}\n",
    "for w in keys:\n",
    "\tvocabIndex[w] = word_vectors.vocab[w].index\n",
    "\n",
    "X = []\n",
    "y = []\n",
    "MAX_LENGTH = max(sizes_counts, key=int)\n",
    "WORD_EMBEDDING_DIM = 100\n",
    "\n",
    "for el in tqdm(tokens):\n",
    "    row = np.zeros((MAX_LENGTH, WORD_EMBEDDING_DIM))\n",
    "    words = el\n",
    "    for j in range(min(MAX_LENGTH, len(words))):\n",
    "        if words[j] in word_vectors.vocab:\n",
    "            indexVal = vocabIndex[words[j]]\n",
    "            row[j] = word_vectors[words[j]]\n",
    "    X.append(row)\n",
    "\t\n",
    "X = np.asarray(X)\n",
    "y = np.asarray(data['feeling'].values)\n",
    "\n",
    "print('X shape:', X.shape, ', Y shape:', y.shape)"
   ]
  },
  {
   "cell_type": "code",
   "execution_count": 184,
   "metadata": {},
   "outputs": [
    {
     "data": {
      "text/plain": [
       "(array([[ 0.60074002,  0.324     ,  0.72399998, ..., -0.64135998,\n",
       "         -0.086523  , -0.13375001],\n",
       "        [ 0.41600001,  0.16817001,  0.29594001, ..., -0.37358999,\n",
       "         -0.0084974 ,  0.50651002],\n",
       "        [-0.54263997,  0.41475999,  1.03219998, ..., -1.29690003,\n",
       "          0.76217002,  0.46349001],\n",
       "        ...,\n",
       "        [ 0.        ,  0.        ,  0.        , ...,  0.        ,\n",
       "          0.        ,  0.        ],\n",
       "        [ 0.        ,  0.        ,  0.        , ...,  0.        ,\n",
       "          0.        ,  0.        ],\n",
       "        [ 0.        ,  0.        ,  0.        , ...,  0.        ,\n",
       "          0.        ,  0.        ]]),\n",
       " array([1, 0, 0, ..., 1, 1, 0], dtype=int64))"
      ]
     },
     "execution_count": 184,
     "metadata": {},
     "output_type": "execute_result"
    }
   ],
   "source": [
    "X[0], y"
   ]
  },
  {
   "cell_type": "code",
   "execution_count": 26,
   "metadata": {},
   "outputs": [],
   "source": [
    "from sklearn.model_selection import train_test_split\n",
    "TEST_SIZE = 0.3\n",
    "X_train, X_test, y_train, y_test = train_test_split(X, y, test_size=TEST_SIZE)\n",
    "assert abs(y.shape[0]*TEST_SIZE - y_test.shape[0]) < 1\n",
    "assert abs(X.shape[0]*TEST_SIZE - X_test.shape[0]) < 1"
   ]
  },
  {
   "cell_type": "markdown",
   "metadata": {},
   "source": [
    "# Model"
   ]
  },
  {
   "cell_type": "code",
   "execution_count": 215,
   "metadata": {},
   "outputs": [
    {
     "name": "stderr",
     "output_type": "stream",
     "text": [
      "C:\\Users\\antho\\Anaconda3\\lib\\site-packages\\ipykernel_launcher.py:11: UserWarning: Update your `Conv1D` call to the Keras 2 API: `Conv1D(activation=\"relu\", input_shape=(51, 100), filters=32, kernel_size=3, padding=\"same\")`\n",
      "  # This is added back by InteractiveShellApp.init_path()\n"
     ]
    },
    {
     "name": "stdout",
     "output_type": "stream",
     "text": [
      "Model: \"sequential_21\"\n",
      "_________________________________________________________________\n",
      "Layer (type)                 Output Shape              Param #   \n",
      "=================================================================\n",
      "conv1d_7 (Conv1D)            (None, 51, 32)            9632      \n",
      "_________________________________________________________________\n",
      "max_pooling1d_8 (MaxPooling1 (None, 25, 32)            0         \n",
      "_________________________________________________________________\n",
      "lstm_20 (LSTM)               (None, 64)                24832     \n",
      "_________________________________________________________________\n",
      "dense_28 (Dense)             (None, 32)                2080      \n",
      "_________________________________________________________________\n",
      "dense_29 (Dense)             (None, 1)                 33        \n",
      "=================================================================\n",
      "Total params: 36,577\n",
      "Trainable params: 36,577\n",
      "Non-trainable params: 0\n",
      "_________________________________________________________________\n"
     ]
    }
   ],
   "source": [
    "from keras.models import Sequential\n",
    "from keras.layers import Dense, LSTM, SpatialDropout1D, Dropout\n",
    "from keras.layers.convolutional import Convolution1D\n",
    "from keras.layers.convolutional import MaxPooling1D, MaxPooling2D\n",
    "from keras.layers.embeddings import Embedding\n",
    "\n",
    "model = Sequential()\n",
    "#model.add(Embedding(TOP_WORDS, 100, input_length=MAX_LENGTH))\n",
    "model.add(Convolution1D(nb_filter=32, filter_length=3, border_mode='same',\n",
    "                        activation='relu',\n",
    "                        input_shape=(MAX_LENGTH, WORD_EMBEDDING_DIM)))\n",
    "model.add(MaxPooling1D(pool_size=2))\n",
    "model.add(LSTM(64, dropout=0.2, recurrent_dropout=0.2))\n",
    "model.add(Dense(32, activation='relu'))\n",
    "model.add(Dense(1, activation='sigmoid'))\n",
    "\n",
    "model.compile(loss='binary_crossentropy', optimizer='adam', metrics=['accuracy'])\n",
    "model.summary()"
   ]
  },
  {
   "cell_type": "code",
   "execution_count": 216,
   "metadata": {},
   "outputs": [
    {
     "name": "stdout",
     "output_type": "stream",
     "text": [
      "Train on 7463 samples, validate on 3199 samples\n",
      "Epoch 1/20\n",
      " - 4s - loss: 0.6842 - accuracy: 0.5554 - val_loss: 0.7611 - val_accuracy: 0.6008\n",
      "Train F1 : 70.81% - Accuracy : 61.88%\n",
      "Test F1 : 69.46% - Accuracy : 60.08%\n",
      "Epoch 2/20\n",
      " - 3s - loss: 0.6031 - accuracy: 0.6938 - val_loss: 0.5986 - val_accuracy: 0.6852\n",
      "Train F1 : 59.54% - Accuracy : 69.21%\n",
      "Test F1 : 57.20% - Accuracy : 68.52%\n",
      "Epoch 3/20\n",
      " - 3s - loss: 0.5531 - accuracy: 0.7300 - val_loss: 0.5321 - val_accuracy: 0.7399\n",
      "Train F1 : 74.29% - Accuracy : 76.19%\n",
      "Test F1 : 71.72% - Accuracy : 73.99%\n",
      "Epoch 4/20\n",
      " - 3s - loss: 0.5304 - accuracy: 0.7445 - val_loss: 0.5076 - val_accuracy: 0.7471\n",
      "Train F1 : 78.86% - Accuracy : 78.74%\n",
      "Test F1 : 74.74% - Accuracy : 74.71%\n",
      "Epoch 5/20\n",
      " - 3s - loss: 0.5062 - accuracy: 0.7611 - val_loss: 0.4979 - val_accuracy: 0.7571\n",
      "Train F1 : 79.23% - Accuracy : 79.70%\n",
      "Test F1 : 74.96% - Accuracy : 75.71%\n",
      "Epoch 6/20\n",
      " - 3s - loss: 0.4793 - accuracy: 0.7790 - val_loss: 0.5044 - val_accuracy: 0.7537\n",
      "Train F1 : 81.56% - Accuracy : 80.54%\n",
      "Test F1 : 76.60% - Accuracy : 75.37%\n",
      "Epoch 7/20\n",
      " - 3s - loss: 0.4689 - accuracy: 0.7871 - val_loss: 0.4837 - val_accuracy: 0.7612\n",
      "Train F1 : 82.20% - Accuracy : 82.37%\n",
      "Test F1 : 75.70% - Accuracy : 76.12%\n",
      "Epoch 8/20\n",
      " - 3s - loss: 0.4584 - accuracy: 0.7902 - val_loss: 0.5174 - val_accuracy: 0.7562\n",
      "Train F1 : 83.06% - Accuracy : 81.60%\n",
      "Test F1 : 77.44% - Accuracy : 75.62%\n",
      "Epoch 9/20\n",
      " - 3s - loss: 0.4453 - accuracy: 0.7993 - val_loss: 0.4927 - val_accuracy: 0.7587\n",
      "Train F1 : 81.69% - Accuracy : 83.10%\n",
      "Test F1 : 73.49% - Accuracy : 75.87%\n",
      "Epoch 10/20\n",
      " - 3s - loss: 0.4331 - accuracy: 0.8080 - val_loss: 0.4774 - val_accuracy: 0.7718\n",
      "Train F1 : 85.27% - Accuracy : 84.83%\n",
      "Test F1 : 77.74% - Accuracy : 77.18%\n",
      "Epoch 11/20\n",
      " - 3s - loss: 0.4212 - accuracy: 0.8168 - val_loss: 0.4907 - val_accuracy: 0.7606\n",
      "Train F1 : 84.31% - Accuracy : 85.26%\n",
      "Test F1 : 73.84% - Accuracy : 76.06%\n",
      "Epoch 12/20\n",
      " - 3s - loss: 0.4101 - accuracy: 0.8206 - val_loss: 0.4797 - val_accuracy: 0.7618\n",
      "Train F1 : 85.71% - Accuracy : 86.23%\n",
      "Test F1 : 74.55% - Accuracy : 76.18%\n",
      "Epoch 13/20\n",
      " - 3s - loss: 0.3957 - accuracy: 0.8270 - val_loss: 0.5052 - val_accuracy: 0.7627\n",
      "Train F1 : 86.36% - Accuracy : 85.46%\n",
      "Test F1 : 77.83% - Accuracy : 76.27%\n",
      "Epoch 14/20\n",
      " - 3s - loss: 0.3867 - accuracy: 0.8330 - val_loss: 0.4803 - val_accuracy: 0.7643\n",
      "Train F1 : 87.16% - Accuracy : 87.54%\n",
      "Test F1 : 74.93% - Accuracy : 76.43%\n",
      "Epoch 15/20\n",
      " - 3s - loss: 0.3769 - accuracy: 0.8373 - val_loss: 0.5147 - val_accuracy: 0.7609\n",
      "Train F1 : 88.12% - Accuracy : 87.47%\n",
      "Test F1 : 77.41% - Accuracy : 76.09%\n",
      "Epoch 16/20\n",
      " - 3s - loss: 0.3625 - accuracy: 0.8478 - val_loss: 0.5015 - val_accuracy: 0.7674\n",
      "Train F1 : 89.74% - Accuracy : 89.63%\n",
      "Test F1 : 76.71% - Accuracy : 76.74%\n",
      "Epoch 17/20\n",
      " - 3s - loss: 0.3574 - accuracy: 0.8501 - val_loss: 0.4901 - val_accuracy: 0.7671\n",
      "Train F1 : 90.03% - Accuracy : 89.82%\n",
      "Test F1 : 77.03% - Accuracy : 76.71%\n",
      "Epoch 18/20\n",
      " - 3s - loss: 0.3371 - accuracy: 0.8588 - val_loss: 0.4975 - val_accuracy: 0.7624\n",
      "Train F1 : 89.60% - Accuracy : 90.04%\n",
      "Test F1 : 74.11% - Accuracy : 76.24%\n",
      "Epoch 19/20\n",
      " - 3s - loss: 0.3319 - accuracy: 0.8612 - val_loss: 0.4851 - val_accuracy: 0.7706\n",
      "Train F1 : 90.73% - Accuracy : 90.73%\n",
      "Test F1 : 76.79% - Accuracy : 77.06%\n",
      "Epoch 20/20\n",
      " - 3s - loss: 0.3304 - accuracy: 0.8676 - val_loss: 0.4893 - val_accuracy: 0.7699\n",
      "Train F1 : 91.42% - Accuracy : 91.57%\n",
      "Test F1 : 75.87% - Accuracy : 76.99%\n"
     ]
    },
    {
     "data": {
      "text/plain": [
       "<keras.callbacks.callbacks.History at 0x231b05ba978>"
      ]
     },
     "execution_count": 216,
     "metadata": {},
     "output_type": "execute_result"
    }
   ],
   "source": [
    "from sklearn.metrics import f1_score, accuracy_score\n",
    "from keras.callbacks import Callback\n",
    "\n",
    "class Metrics(Callback):\n",
    "\n",
    "    def on_train_begin(self, logs={}):\n",
    "        self.accuracy = []\n",
    "        self.val_f1s = []\n",
    "        self.val_acc = []\n",
    "        self.train_acc = []\n",
    "        self.train_f1s = []\n",
    " \n",
    "    def on_epoch_end(self, epoch, logs={}):\n",
    "        val_predict = np.round(self.model.predict(self.validation_data[0]))\n",
    "        _val_f1 = f1_score(self.validation_data[1], val_predict)\n",
    "        _val_acc = accuracy_score(self.validation_data[1], val_predict)\n",
    "        train_predict = np.round(self.model.predict(X_train))\n",
    "        _train_f1 = f1_score(y_train, train_predict)\n",
    "        _train_acc = accuracy_score(y_train, train_predict)\n",
    "        self.val_f1s.append(_val_f1)\n",
    "        self.val_acc.append(_val_acc)\n",
    "        self.train_acc.append(_train_f1)\n",
    "        self.train_f1s.append(_train_acc)\n",
    "        print(\"Train F1 : {:2.2f}% - Accuracy : {:2.2f}%\".format(_train_f1 * 100, _train_acc * 100))\n",
    "        print(\"Test F1 : {:2.2f}% - Accuracy : {:2.2f}%\".format(_val_f1 * 100, _val_acc * 100))\n",
    "        return\n",
    "\n",
    "metrics = Metrics()\n",
    "\n",
    "model.fit(X_train, y_train, epochs=20, batch_size=100, verbose=2, validation_data=(X_test, y_test), callbacks=[metrics])"
   ]
  },
  {
   "cell_type": "code",
   "execution_count": 218,
   "metadata": {},
   "outputs": [],
   "source": [
    "# saving model\n",
    "if True:\n",
    "    model_json = model.to_json()\n",
    "    with open(\"models/simple_model.json\", \"w\") as json_file:\n",
    "        json_file.write(model_json)\n",
    "    model.save_weights(\"models/simple_model.h5\")"
   ]
  },
  {
   "cell_type": "code",
   "execution_count": 223,
   "metadata": {},
   "outputs": [
    {
     "data": {
      "image/png": "[encoded data removed]",
      "text/plain": [
       "<Figure size 504x288 with 1 Axes>"
      ]
     },
     "metadata": {
      "needs_background": "light"
     },
     "output_type": "display_data"
    }
   ],
   "source": [
    "import matplotlib.pyplot as plt\n",
    "import matplotlib\n",
    "from matplotlib.ticker import FuncFormatter\n",
    "import seaborn as sns\n",
    "\n",
    "plt.figure(figsize=(7,4))\n",
    "sns.lineplot(range(20), metrics.train_acc, color=\"blue\", label=\"train\")\n",
    "sns.lineplot(range(20), metrics.val_f1s, color=\"red\", label=\"test\")\n",
    "plt.title(\"F1-score by epoch\")\n",
    "plt.ylabel(\"F1-score\")\n",
    "plt.xlabel(\"Epoch\")\n",
    "plt.grid()\n",
    "plt.show()"
   ]
  },
  {
   "cell_type": "markdown",
   "metadata": {},
   "source": [
    "# Test"
   ]
  },
  {
   "cell_type": "code",
   "execution_count": 20,
   "metadata": {},
   "outputs": [
    {
     "name": "stderr",
     "output_type": "stream",
     "text": [
      "Using TensorFlow backend.\n"
     ]
    },
    {
     "name": "stdout",
     "output_type": "stream",
     "text": [
      "WARNING:tensorflow:From C:\\Users\\antho\\Anaconda3\\lib\\site-packages\\keras\\backend\\tensorflow_backend.py:4070: The name tf.nn.max_pool is deprecated. Please use tf.nn.max_pool2d instead.\n",
      "\n"
     ]
    }
   ],
   "source": [
    "# load model\n",
    "from keras.models import model_from_json\n",
    "json_file = open('models/simple_model.json', 'r')\n",
    "loaded_model_json = json_file.read()\n",
    "json_file.close()\n",
    "loaded_model = model_from_json(loaded_model_json)\n",
    "loaded_model.load_weights(\"models/simple_model.h5\")"
   ]
  },
  {
   "cell_type": "code",
   "execution_count": 28,
   "metadata": {},
   "outputs": [
    {
     "name": "stdout",
     "output_type": "stream",
     "text": [
      "This model ranks the kindness of a sentence:\n",
      "\t 87.04% for: I feel tired, could you please leave?\n",
      "\t 67.65% for: Please, can you go somewhere else?\n",
      "\t 56.23% for: Can you go somewhere else?\n",
      "\t 40.14% for: I would like you to leave this place\n",
      "\t 22.84% for: I would like you to leave this place now\n",
      "\t 18.99% for: Leave this place right now before I kick your ass\n"
     ]
    }
   ],
   "source": [
    "examples = [\"I feel tired, could you please leave?\",\n",
    "            \"Please, can you go somewhere else?\",\n",
    "            \"Can you go somewhere else?\",\n",
    "            \"I would like you to leave this place\",\n",
    "            \"I would like you to leave this place now\",\n",
    "            \"Leave this place right now before I kick your ass\"]\n",
    "\n",
    "print(\"This model ranks the kindness of a sentence:\")\n",
    "for i, example in enumerate(examples):\n",
    "    X_ex = np.zeros((MAX_LENGTH, WORD_EMBEDDING_DIM))\n",
    "    words = example.split(\" \")\n",
    "    for j in range(min(MAX_LENGTH, len(words))):\n",
    "        words[j] = words[j].lower()\n",
    "        if words[j] in word_vectors.vocab:\n",
    "            indexVal = vocabIndex[words[j]]\n",
    "            X_ex[j] = word_vectors[words[j]]\n",
    "\n",
    "    X_ex = np.array([X_ex])\n",
    "    pred = loaded_model.predict([X_ex])\n",
    "    print(\"\\t {1:2.2f}% for: {0}\".format(example, pred[0][0] * 100))"
   ]
  },
  {
   "cell_type": "code",
   "execution_count": null,
   "metadata": {},
   "outputs": [],
   "source": []
  }
 ],
 "metadata": {
  "kernelspec": {
   "display_name": "Python 3",
   "language": "python",
   "name": "python3"
  },
  "language_info": {
   "codemirror_mode": {
    "name": "ipython",
    "version": 3
   },
   "file_extension": ".py",
   "mimetype": "text/x-python",
   "name": "python",
   "nbconvert_exporter": "python",
   "pygments_lexer": "ipython3",
   "version": "3.7.3"
  }
 },
 "nbformat": 4,
 "nbformat_minor": 4
}
